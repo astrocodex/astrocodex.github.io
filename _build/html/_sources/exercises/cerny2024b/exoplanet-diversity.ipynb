{
 "cells": [
  {
   "cell_type": "markdown",
   "id": "89baa8c6-9264-4e95-bdfc-1d71eb67f9fb",
   "metadata": {},
   "source": [
    "# Exploring the Diversity of Known Exoplanets\n",
    "\n",
    ":::{admonition} [William Cerny](https://orcid.org/0000-0003-1697-7062), [Imad Pasha](https://orcid.org/0000-0002-7075-9931), [Yasmeen Asali](https://orcid.org/0000-0002-8320-2198), [Sebastian Monzon](https://orcid.org/0000-0002-9986-4604) (Yale University)\n",
    ":class: Author\n",
    "\n",
    "*Description*: Using the Stefan-Bolztmann law to infer the properties of stars; practice with basic python and data types.\n",
    "\n",
    "*Intended Audience*: Early Undergraduate\n",
    "\n",
    "*tags*: `exoplanets`, `pandas`\n",
    "\n",
    "*Requirements*: [requirements.txt](./requirements.txt)\n",
    "\n",
    "*Last Updated: August 9, 2024*\n",
    ":::\n",
    "\n",
    ":::{admonition} Learning Objectives\n",
    ":class: learningobjective \n",
    "\n",
    "1. Understand the difference between various exoplanet detection methods\n",
    "2. Be able to download and open a data file from the NASA Exoplanet Archive into a `pandas` dataframe.\n",
    "3. Filter the table to plot famous exoplanet diagrams, colored by detection technique.\n",
    "\n",
    ":::"
   ]
  },
  {
   "attachments": {},
   "cell_type": "markdown",
   "id": "32d159ac-c0b3-482e-962c-f8a326c7d535",
   "metadata": {},
   "source": [
    "## Introduction \n",
    "\n",
    "When we detect exoplanets (planets orbiting other stars), we most often have several of three direct measurables about those plants: \n",
    "1. Their radius (formally, their radius relative to their host star),\n",
    "2. Their mass, and/or\n",
    "2. Their orbital separation (aka radius, for circular orbits, or semi-major axis, for elliptical orbits). \n",
    "\n",
    "The reason for this comes down to the **detection methods** used to find and characterize these systems. \n",
    "\n",
    "\n",
    "1. **Transit Method**: In this technique, exoplanets are detected by observing the periodic dimming of a star's light as a planet passes in front of it (transits) from our line of sight. By measuring the decrease in brightness during transit events, astronomers can infer the presence and characteristics of orbiting planets. This method provides relative radius (from the depth of the dip) and orbital separation (inferred from the length of an orbit, i.e., how long between transits).\n",
    "\n",
    "2. **Radial Velocity Method**: This method detects exoplanets by measuring the small periodic shifts in the star's radial velocity caused by the gravitational pull of an orbiting planet. As the planet orbits the star, it causes the star to wobble slightly, which can be detected through Doppler spectroscopy. This provides an estimate of the mass (from Newton's laws) and orbital separation (from the perio of the wobbles).\n",
    "\n",
    "3. **Microlensing**: Exoplanets can be detected through gravitational microlensing, where the gravitational field of a foreground star bends and magnifies the light of a background star as well as any orbiting planets. The presence of an exoplanet around the foreground star can be inferred from the temporary increase in brightness observed during the microlensing event.\n",
    "\n",
    "4. **Transit Timing Variations (TTV)**: TTV detects exoplanets by measuring the variations in the timing of transit events caused by gravitational interactions between multiple planets within a system. These deviations from the expected transit times provide information about the masses and orbits of the interacting planets.\n",
    "\n",
    "In addition to these four, there are a number of other methods of detecting planets (such as direct imaging)! \n",
    "\n",
    "It is common to plot detected exoplanets in the space of Mass vs. Orbital Separation. Here, we show one such plot, colored by the detection technique used to find the planet (follow-up observations may have been needed to compute mass or separation).\n",
    "\n",
    "![](Mass-separation-plot-for-known-exoplanets-color-coded-according-to-their-detection.png)\n",
    "\n",
    "The x-axis of this figure shows the mass of the planet on a log scale, typically measured in Jupiter masses (where 1 Jupiter mass equals approximately $1.898 \\times 10^{27}$ kg). The y-axis, also on a log scale, represents the planet-star separation distance, often expressed in astronomical units (AU), with 1 AU equivalent to the average distance between the Earth and the Sun (approximately 149.6 million kilometers). Each data point plotted signifies an individual exoplanet."
   ]
  },
  {
   "cell_type": "markdown",
   "id": "b1d2f2c6-307e-4611-a9fa-57fa6de1da5d",
   "metadata": {},
   "source": [
    ":::{admonition} Checkpoint: Why might the blue (transit) points be clustered toward small separation/high mass?\n",
    ":class: tip dropdown \n",
    "\n",
    "1. Because the dip in light is larger when a large (and thus usually more massive) planet passes in front of the star, larger planets produce more detectable transit signals. \n",
    "2. Because the transit method requires the planet to be coplanar with the star and earth, closer in orbits have a higher chance of passing in front of the star. \n",
    "3. To 100% confirm an exoplanet, you (typically) must detect the transit 2-3 times at a regular interval. Most transit-detecting satellites have not observed for more than a year or two, meaning planets with progressively longer years (larger orbital separation) take longer to confirm.  \n",
    ":::"
   ]
  },
  {
   "cell_type": "markdown",
   "id": "d14c6eaa-2170-42dd-8ffd-bcefa9b77b1b",
   "metadata": {
    "tags": []
   },
   "source": [
    "## The Mass-Separation Plot\n",
    "In this exercise, we will recreate the above figure using data available in the NASA exoplanet archive.\n",
    "\n",
    ":::{exercise} \n",
    ":class: dropdown\n",
    "\n",
    "1. Download the full catalog of known exoplanet properties from the NASA Exoplanet Archive. Navigate to the Data Page of [https://exoplanetarchive.ipac.caltech.edu/](https://exoplanetarchive.ipac.caltech.edu/) , then to the `Planetary Systems Composite Data` link. Hit Download Table --> download as csv. \n",
    "2. Within a Jupyter notebook, load the table you just downloaded into a Pandas dataframe.\n",
    ":::\n",
    "\n",
    ":::{exercise}\n",
    ":class: dropdown \n",
    "\n",
    "1. Using the \"np.unique\" function in numpy applied to your dataframe, figure out all the possible exoplanet discovery methods report in this table (note: as mentioned above the four methods shown in the provided figure are not the only possible methods)!\n",
    "2. Try to recreate the figure shown above using the same units, axis scaling (logarithmic scale), and labels/legend! To do this, filter your pandas dataframe by each discovery method and use different calls to plt.scatter() to plot them in stylistically distinct ways. \n",
    "\n",
    ":::"
   ]
  },
  {
   "cell_type": "markdown",
   "id": "55ea4e37-3988-444d-a012-6dfd70922b7a",
   "metadata": {},
   "source": [
    "## Recreating Another Classic Plot: Period-Radius Diagram\n",
    "\n",
    "Another classic figure shows the period of detected exoplanets against their planet radius. In this exercise, we'll create that figure.\n",
    "\n",
    ":::{exercise} \n",
    ":class: dropdown\n",
    "\n",
    "1. Using the same full exoplanet dataframe you downloaded and opened for exercise 1, trying plotting the exoplanet period-radius diagram. This is another classic exoplanet figure! The x-axis typically represents the logarithm of the orbital period of exoplanets, measured in days. The y-axis represents the logarithm of the radius of exoplanets, usually measured in terms of Earth radii. \n",
    ":::\n"
   ]
  }
 ],
 "metadata": {
  "kernelspec": {
   "display_name": "Python 3 (ipykernel)",
   "language": "python",
   "name": "python3"
  },
  "language_info": {
   "codemirror_mode": {
    "name": "ipython",
    "version": 3
   },
   "file_extension": ".py",
   "mimetype": "text/x-python",
   "name": "python",
   "nbconvert_exporter": "python",
   "pygments_lexer": "ipython3",
   "version": "3.11.6"
  }
 },
 "nbformat": 4,
 "nbformat_minor": 5
}
