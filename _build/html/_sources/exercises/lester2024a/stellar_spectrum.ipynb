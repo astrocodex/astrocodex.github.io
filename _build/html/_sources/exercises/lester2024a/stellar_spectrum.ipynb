{
 "cells": [
  {
   "cell_type": "markdown",
   "metadata": {
    "id": "V4KlpAGkKHbF"
   },
   "source": [
    "# Stellar Temperatures from Spectra\n",
    "\n",
    ":::{admonition} [Katie Lester](https://orcid.org/0000-0002-9903-9911) (Mount Holyoke College)\n",
    ":class: author\n",
    "\n",
    "*Description*: A series of exercises building the intuition and practice for model comparison with data with $\\chi^2$ minimization, using stellar models and several (real) stellar spectra.\n",
    "\n",
    "*Intended Audience*: Beginner to Intermediate Undergraduate\n",
    "\n",
    "*tags*: `stellar-spectroscopy`,`model-fitting`, `numpy`, `for-loops`\n",
    "\n",
    "*Requirements*: [requirements.txt](./requirements.txt)\n",
    "\n",
    "*Last Updated: July 23, 2024*\n",
    ":::\n",
    "\n",
    "\n",
    ":::{admonition} Learning Objectives\n",
    ":class: learningobjective\n",
    "- learn to read in tabular data to Python\n",
    "- be able to calculate a chi-squared goodness of fit statistic\n",
    "- practice for loops and indexing\n",
    "- learn data visualization skills\n",
    "- Understand how stellar spectra change with effective temperature & how to quantify how well two datasets match. \n",
    ":::\n",
    "\n",
    "## Introduction\n",
    "In this activity, we're going to look at spectra of some real stars and of computer models, compare stars of different spectral types, and finding the temperatures of our mystery stars.\n",
    "\n",
    "The files for this activity contain the model spectra for different effective temperatures (\"models.csv\") and the observed spectra (\"Star#.csv\") for 3 real stars. The files have:\n",
    "\n",
    "- Wavelength -- units of nm\n",
    "\n",
    "- Normalized Flux -- the fluxes have been \"continuum normalized\", meaning that the overall blackbody shape has been divided out. So the flux values vary from 0-1 in value, rather than normal erg/cm2/s/nm units.\n",
    "\n",
    "You can download them here: [models.csv](./models.csv) | [Star 1](./Star1.csv) | [Star 2](./Star2.csv) | [Star 3](./Star3.csv)\n",
    "\n",
    ":::{hint}\n",
    "Be sure to have your data files in the same directory as your code where you're loading the data!\n",
    ":::"
   ]
  },
  {
   "cell_type": "markdown",
   "metadata": {
    "id": "31DFksMFAyeM"
   },
   "source": [
    "## Part 1 - Model spectra\n"
   ]
  },
  {
   "cell_type": "markdown",
   "metadata": {},
   "source": [
    "Start by importing the python packages we'll need by running the cell below."
   ]
  },
  {
   "cell_type": "code",
   "execution_count": 1,
   "metadata": {
    "id": "87YCcOpWKCZB"
   },
   "outputs": [],
   "source": [
    "# start by importing useful packages\n",
    "import numpy as np\n",
    "import matplotlib.pyplot as plt\n",
    "from astropy.io import ascii\n",
    "%matplotlib inline\n",
    "from astropy.table import Table"
   ]
  },
  {
   "cell_type": "markdown",
   "metadata": {
    "id": "KXxOBchsVAtP"
   },
   "source": [
    "Our model spectra correspond to effective temperatures of 4000, 6000, 8000 and 10,000 K. We will use the custom function below (\"get_model\") to read in the model for a given temperature, then return the wavelength and flux of the model spectrum in datatable format (\"model\"). \n",
    "\n",
    "Run the cell below so we can use this function.\n"
   ]
  },
  {
   "cell_type": "code",
   "execution_count": null,
   "metadata": {
    "colab": {
     "base_uri": "https://localhost:8080/"
    },
    "executionInfo": {
     "elapsed": 191,
     "status": "ok",
     "timestamp": 1698597746715,
     "user": {
      "displayName": "Katie Lester",
      "userId": "08616863894853755613"
     },
     "user_tz": 240
    },
    "id": "M7PQBSNOKbvM",
    "outputId": "66d1afb8-5ec0-4ce2-b75a-dccfeeb9cef1"
   },
   "outputs": [],
   "source": [
    "def get_model(temperature):\n",
    "    # input = effective temperature\n",
    "    templist = [4000, 6000, 8000, 10000]\n",
    "    if temperature not in templist:\n",
    "        print(' Please choose a new temperature:')\n",
    "        print('   possible values =', templist)\n",
    "        pass\n",
    "    else:\n",
    "        data = ascii.read(\"models.csv\")\n",
    "        model = Table([data[\"wavelength\"], data[\"flux_\"+str(temperature)]])\n",
    "        model.rename_column(\"flux_\"+str(temperature), 'flux')\n",
    "        return(model)\n"
   ]
  },
  {
   "cell_type": "markdown",
   "metadata": {},
   "source": [
    ":::{exercise}\n",
    ":class: dropdown \n",
    "\n",
    "Let's practice reading in a model spectrum! Choose a temperature in our model range and write it in the empty parentheses in the cell below. Then run the cell to print out the resulting `model` table values. An example scaffold is provided.\n",
    "\n",
    "\n",
    "> model = get_model(  )\n",
    "\n",
    "> print(model)\n",
    "\n",
    ":::"
   ]
  },
  {
   "cell_type": "markdown",
   "metadata": {
    "id": "VXAjLcjXOiCG"
   },
   "source": [
    ":::{exercise}\n",
    ":class: dropdown\n",
    "\n",
    "Write code to plot the model spectrum. You can pull columns from astropy tables (like `\"wavelength\"` above) by indexing the object with just the column name. Include reasonable axis labels and change the plot ranges as needed. \n",
    "\n",
    "Pro tip - Add minor ticks using after the plt.plot() command:  \n",
    "> plt.minorticks_on()\n",
    ":::"
   ]
  },
  {
   "cell_type": "markdown",
   "metadata": {
    "id": "jEJC80BfAJpC"
   },
   "source": [
    ":::{exercise}\n",
    ":class: dropdown\n",
    "\n",
    "Let's look at the data for the other models; to do this, we're going to make a loop that runs over effective temperature to (1) read in each model and (2) plot the spectrum on our graph.\n",
    "\n",
    "1. Make a \"teff\" numpy array that holds the effective temperature values of our models (4000-10000 in steps of 2000 K). \n",
    "2. Make a For-loop that iterates over the effective temperature. In each iteration, read in the model for this temperature, and then make a plot of the spectrum. Bonus - Add a title with the model's temperature so we can tell them apart.\n",
    "\n",
    "As a reminder, a basic For Loop looks like:\n",
    ">     for i in range(0, 10):\n",
    ">         print('iteration', i)\n",
    ":::"
   ]
  },
  {
   "cell_type": "markdown",
   "metadata": {
    "id": "belC8ecHAC0x"
   },
   "source": [
    ":::{exercise}\n",
    ":class: dropdown \n",
    "\n",
    "How does the spectrum change as the model's effective temperature changes? Qualitatively describe your intuition from examining the model plots.\n",
    ":::"
   ]
  },
  {
   "cell_type": "markdown",
   "metadata": {
    "id": "g8qZQQLfA6KX"
   },
   "source": [
    "## Part 2 - observed spectra\n",
    "\n",
    "Now, we're going to compare the observed spectra of a real star to the models from Part I and determine this star's spectral type (and surface temperature)."
   ]
  },
  {
   "cell_type": "markdown",
   "metadata": {
    "id": "dTKf12a7BIPQ"
   },
   "source": [
    ":::{exercise}\n",
    ":class: dropdown \n",
    "\n",
    "1. Read in the spectrum for Star 1 using the *ascii.read()* package. (Like in Step 1).\n",
    "\n",
    "2. Plot the spectrum. What do you notice about the spectrum? Take some time to modify your plot boundaries/axes, labels, and aspect ratio to best see the relevant features in the spectrum\n",
    ":::"
   ]
  },
  {
   "cell_type": "markdown",
   "metadata": {
    "id": "KiuZe-mqCJ8s"
   },
   "source": [
    "One way to determine the spectral type of Star 1 would be \"by eye\", where you visually choose which model looks most similar to Star 1. A better way would be comparing the spectra using a chi-squared ($\\chi^2$) goodness-of-fit statistic:\n",
    "\n",
    "$$\\chi^2 = \\sum\\frac{(data - model)^2}{model}$$\n",
    "\n",
    "\n",
    "This statistic quantifies how *different* (or similar) two data sets are, where the \"best fitting\" model is going to have the *lowest* $\\chi^2$ value. Notice that this metric is computed as the *sum* over the normalized difference between every equivalent point in the model to the data; individual points with very large discrepancies can thus drive the $\\chi^2$ metric up considerably."
   ]
  },
  {
   "cell_type": "markdown",
   "metadata": {},
   "source": [
    ":::{exercise}\n",
    ":class: dropdown \n",
    "\n",
    "Calculate the $\\chi^2$ value for Star 1 compared to the 4000 K model, then print out the result. You should get a $\\chi^2$ value around 400, which isn't very good. We want a low number, so let's try other spectral types...\n",
    "\n",
    "\n",
    "*Hint - You can use `np.sum()` to add up all the values in an array; this calculation does not require a for-loop*\n",
    ":::"
   ]
  },
  {
   "cell_type": "markdown",
   "metadata": {
    "id": "oxPlxFQPKMLV"
   },
   "source": [
    "We're going to calculate $\\chi^2$ value for each of the temperatures, and save these values in an array called \"chi2\". This array will have the same size as the effective temperature array you made earlier.\n",
    "\n",
    "First, we need to make an empty numpy array to store the $\\chi^2$ values. You can make a blank numpy array using:\n",
    ">  x = np.zeros(length)\n",
    "\n",
    "where \"length\" is the number of elements in the array.\n",
    "\n",
    ":::{exercise}\n",
    ":class: dropdown \n",
    "\n",
    "Write the code to make a \"chi2\" array with the same number of elements as your \"teff\" array.\n",
    "\n",
    "*Hint -- You can find the length of an array using \"len(array)\".*\n",
    "\n",
    "Next, create a `for-loop` that iterates over temperature (as in Part I), calculating the $\\chi^2$ for each model with Star 1, and store the output in the `chi2` array. \n",
    ":::"
   ]
  },
  {
   "cell_type": "markdown",
   "metadata": {},
   "source": [
    "Now we can find the minimum $\\chi^2$ value and find the best-fit temperature for Star 1. \n",
    "\n",
    ":::{exercise}\n",
    ":class: dropdown \n",
    "\n",
    "Make a plot of effective temperature versus chi2, including axis labels and whatever colors/symbols you like! Which model temperature best fits the data? Put another way, using our modeling, what is our best estimate for the temperature of Star 1?\n",
    ":::"
   ]
  },
  {
   "cell_type": "markdown",
   "metadata": {
    "id": "pHoSBYV9MnGh"
   },
   "source": [
    ":::{exercise}\n",
    ":class: dropdown \n",
    "\n",
    "Make a plot of Star 1's spectrum with the best fitting model (determined from your $\\chi^2$ calculation) plotted on top to see how well they match.  (They should match pretty well!)\n",
    ":::"
   ]
  },
  {
   "cell_type": "markdown",
   "metadata": {
    "id": "2j36Ri0BLXlr"
   },
   "source": [
    "## Part 3 - New Mystery Stars\n",
    "\n",
    "Now we'll move on to the other stars, repeating the process from Part II.\n",
    "\n",
    ":::{exercise}\n",
    ":class: dropdown \n",
    "\n",
    "Repeat the process in Part 2 for the other mystery stars (Stars 2 & 3) to find their spectral types. For each star,\n",
    "\n",
    "1. Read in the mystery star's spectrum.\n",
    "\n",
    "2. Calculate the $\\chi^2$ values for all of the model spectra. Make a chi2 vs temperature plot to find the best fitting spectral type.\n",
    "\n",
    "3. Plot the observed spectrum and the best-fit model spectrum to confirm that they match.\n",
    "\n",
    "4. Determine the effective temperature for the two stars.\n",
    ":::"
   ]
  },
  {
   "cell_type": "markdown",
   "metadata": {},
   "source": [
    "## Concluding thoughts\n",
    "\n",
    "**Question:**  How well did the model spectra fit the real stars' spectra? Do you think our fitting code worked successfully?\n",
    "\n",
    "**Question:**  What's one situation where our code would NOT be able to find the temperature of the star? Is there a way we could update our code / analysis to solve the problem?\n",
    "\n",
    "Write out a discussion for these two questions"
   ]
  },
  {
   "cell_type": "markdown",
   "metadata": {},
   "source": [
    "## Bonus/Extra Credit: Array Manipulation \n",
    "\n",
    "In the exercises above, we used a `for-loop` to iterate over all the models in our library, comparing each to an individual stellar spectrum. Each model has the same length as the real spectrum (which is why the `model-data` array-wise subtraction worked). This means that it is in fact possible to compute our `chi2` array for all models and a given star in one step, *without* using a for-loop. \n",
    "\n",
    "You may have learned that to compute the point-wise, e.g., sum, multiplication, etc., between two arrays, they have to be the same *shape*. That's not strictly true, however, due to the ability for `numpy` arrays to be *broadcast*. You've probably used this technique before actually! When we compute \n",
    "\n",
    "```\n",
    "a = np.array([1,2,3,4,5])\n",
    "b = a - 2 \n",
    "print(b)\n",
    "array([-1,0,1,2,3])\n",
    "```\n",
    "\n",
    "the actual \"array\" subtraction is `array([1,2,3,4,5]) - array([2,2,2,2,2])`. `Numpy` is smart enough to *extend* our integer (2) to match the length of `a` to facilitate the subtraction. Sometimes, in more complex scenarios (like our spectra), we can be a bit more explicit and tell `numpy` how to broadcast our arrays to facilitate a single, vectorized computation. \n",
    "\n",
    "\n",
    ":::{exercise}\n",
    ":class: dropdown \n",
    "\n",
    "Doing some googling if neccessary, determine how to use array broadcasting to turn the computation of the `chi2` array for a star and all our models into a single line calculation using `numpy` arrays. \n",
    "\n",
    "For an even trickier challenge, determine how to find *all* the `chi2` arrays for an arbitrary number of mystery stars with all the models in a single `numpy` operation. For this one, you'll need to stack up the mystery stars into one array, and the models into another.\n",
    "\n",
    "*Note: You may need to adjust how you load in the data to get all temperature models into a single array*.\n",
    "\n",
    ":::"
   ]
  }
 ],
 "metadata": {
  "colab": {
   "authorship_tag": "ABX9TyNuNVGGdLTdwD/ooXaTFMAN",
   "provenance": [
    {
     "file_id": "152bwoMRR0EJ8bu-sV3nW7hE1CWNnYkM9",
     "timestamp": 1698598895029
    }
   ],
   "toc_visible": true
  },
  "kernelspec": {
   "display_name": "py3",
   "language": "python",
   "name": "python3"
  },
  "language_info": {
   "codemirror_mode": {
    "name": "ipython",
    "version": 3
   },
   "file_extension": ".py",
   "mimetype": "text/x-python",
   "name": "python",
   "nbconvert_exporter": "python",
   "pygments_lexer": "ipython3",
   "version": "3.11.6"
  }
 },
 "nbformat": 4,
 "nbformat_minor": 1
}
