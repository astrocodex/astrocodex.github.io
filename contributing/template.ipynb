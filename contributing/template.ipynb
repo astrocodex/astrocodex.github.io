{
 "cells": [
  {
   "cell_type": "markdown",
   "metadata": {},
   "source": [
    "# Title of Assignment \n",
    "\n",
    ":::{admonition} [Author One](https://orcid.org/XXX),[Author Two](https://orcid.org/XXX) (Institution)\n",
    ":class: Author\n",
    "\n",
    "*Description*: Short Description of Assignment \n",
    "\n",
    "*Intended Audience*: Level of assignment\n",
    "\n",
    "*tags*: e.g., `libraries:numpy`, `model-fitting`, \n",
    "\n",
    "*Requirements*: [requirements.txt](./requirements.txt) \n",
    "\n",
    "*Last Updated: Month Day, YYYY*\n",
    ":::\n",
    "\n",
    ":::{admonition} Learning Objectives\n",
    ":class: learningobjective \n",
    "\n",
    "1. List of key learning objectives in this assignments\n",
    "2. Try to keep to 2-4 at most.\n",
    "\n",
    ":::"
   ]
  },
  {
   "cell_type": "markdown",
   "metadata": {},
   "source": [
    "# Assignment Format \n",
    "\n",
    "We don't enforce much about how you structure your assignment, but for the online, rendered view, we have a style in which encapsulate \"excersises\" are placed in drop-down boxes, while introductory material, guidance, or interpretation is kept in the flow of the notebook/page. \n",
    "\n",
    "One reason for this is that it makes it easier for other instructors to see the number of excercises and length of assignment, as well as to view quickly the actual tasks being asked of students. Put another way, the actual drop-down, numbered excercises are direct calls to action on the part of the students. Note that we also make \"stripped\" versions of notebooks available with no special formatting. \n",
    "\n",
    "We thus ask that in your upload, it is clear which blocks correspond to actual directive exercises. \n",
    "\n",
    "If you would like to make things easier for the codex maintainers, you can use the following directive to enclose your actual excercises within your notebook: \n",
    "\n",
    ":::{exercise}\n",
    ":class: dropdown \n",
    "\n",
    "Exercise description\n",
    "\n",
    "1. List of required steps \n",
    "2. List of required steps\n",
    "\n",
    "Bonus: Bonus can go here!\n",
    "\n",
    "2. Other section?\n",
    ":::\n",
    "\n",
    "In short, you add three colons, the exercise tag in curly brackets, the dropdown class below, and the 3 colons to close the exercise. \n",
    "\n",
    "If you plan to use in some way a rendered version of exercises (e.g., we provide a standalone html for each exercise that uses the special markdown rendering), there are others you can use, like notes, hints, etc. Our site builds with jupyter-book, and advice on this can be found at: https://jupyterbook.org/en/stable/file-types/markdown.html. Additionally, any of the notebooks/pages shown in the site can be downloaded, and you can see how the special blocks get formatted. \n",
    "\n"
   ]
  }
 ],
 "metadata": {
  "language_info": {
   "name": "python"
  }
 },
 "nbformat": 4,
 "nbformat_minor": 2
}
