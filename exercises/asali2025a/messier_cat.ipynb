{
 "cells": [
  {
   "cell_type": "markdown",
   "metadata": {},
   "source": [
    "Analyze the Messier Catalog\n",
    "\n",
    ":::{admonition} [Yasmeen Asali](https://orcid.org/0000-0002-8320-2198), [William Cerny](https://orcid.org/0000-0003-1697-7062), [Pratik Gandhi](https://orcid.org/0000-0003-0965-605X) (Yale University)\n",
    ":class: Author\n",
    "\n",
    "*Description*: Students use the Messier catalog to practice using for loops and and logic\n",
    "\n",
    "*Intended Audience*: Beginner Undergraduate\n",
    "\n",
    "*tags*: `libraries:numpy`, `loops`, `program-flow`, `logic` \n",
    "\n",
    "*Requirements*: [requirements.txt](./requirements.txt)\n",
    "\n",
    "*Last Updated: May 9, 2025*\n",
    ":::\n",
    "\n",
    ":::{admonition} Learning Objectives\n",
    ":class: learningobjective \n",
    "\n",
    "1. Understand the structure of 2D arrays and how to access data \n",
    "2. Practice using logic to downselect rows from an array and practice using for loops to iterate through objects \n",
    "\n",
    ":::"
   ]
  },
  {
   "cell_type": "markdown",
   "metadata": {},
   "source": [
    "In this assignment, you will practice using logic and loops using a dataset of objects from the [Messier Catalog](https://en.wikipedia.org/wiki/Messier_object). The dataset includes basic information about each object, like it's type, magnitude, distance, constellation, and the best viewing season. Your tasks will involve reading the data, analyzing it, and using `numpy`, logic, and loops to answer questions about it! "
   ]
  },
  {
   "cell_type": "markdown",
   "metadata": {},
   "source": [
    "## Opening the Dataset\n",
    "\n",
    "The data is stored in a `.npy` file, which you can load with `np.load()`. We will provide this `.npy` file via slack, and you can use the following line of code to open up the file in your code and store it's contents in a variable called `data`. \n",
    "\n",
    "```\n",
    "data = np.load('/Users/yasmeenasali/Downloads/messier_data.npy')\n",
    "```\n",
    "\n",
    ":::: {caution} \n",
    "Will the above line run on your computer? No! Do you remember what you need to change about it? \n",
    ":::{hint}\n",
    ":class: dropdown\n",
    "Recall from Week 0, you need to update the PATH to match where the data lives on your computer! You can put the data anywhere on your computer, and specify the absolute PATH in your code like the example I have above. Alternately, if you put the data in the **same directory** (folder) as the python script you are writing, you can open it like this: `np.load(messier_data.npy)`.  \n",
    ":::\n",
    "::::\n",
    "\n",
    "Each row in the dataset corresponds to a single Messier object, with the following fields:\n",
    "- **Messier**: Name of the Messier object as a string (e.g., `'M107'`, `'M108'`)\n",
    "- **RA** and **DEC**: the Right Ascension and Declination of the object (coordinates in the sky). \n",
    "- **Type**: Type of object (e.g., `'Gc'` for Globular Cluster, `'Sp'` for Spiral, `'Ba'` for Barred Spiral)\n",
    "- **Mag**: Magnitude (brightness) of the object. Magnitudes are a unit-less system, and lower numbers mean brighter objects! \n",
    "- **Distance**: Distance from Earth in units of light-years\n",
    "- **Constellation**: The constellation in which the object resides\n",
    "- **Season**: The best viewing season (spring, summer, autumn, winter)\n",
    "\n",
    "Since we have not practiced with large 2D datasets a lot, here are some tips and reminders. \n",
    "1) You can access each row of the dataset using **indexing**. For instance, `data[0]` will return the first row of the array (aka all of the above column values for a single Messier object).\n",
    "2) You can access each column of the dataset using `data['Messier']` for example, where now rather than indexing by an integer we are indexing by a column **key** (a column name). This will return a numpy array of all the Messier numbers for all of the objects. "
   ]
  },
  {
   "cell_type": "markdown",
   "metadata": {},
   "source": [
    "::::{admonition} Exercise One: Overview Analysis of the Messier Catalog \n",
    ":class: tip\n",
    "\n",
    "These problems are reviewing skills from last week and from this week's lecture! Hopefully, they are on the easier side! \n",
    "\n",
    "1. **How many objects are in the dataset?** You can either write a loop to count the number of objects or use a built-in python function. \n",
    "\n",
    "2. **Investigate the brightness of Messier objects:** Recall that magnitude is a measure of brightness, and brighter objects have lower magnitude values!\n",
    "    - Calculate the average magnitude of all the Messier objects.\n",
    "    - What magnitude is the brightest object in the catalog, and what magnitude is the dimmest?\n",
    "    - Once you have that, calculate the difference in magnitude between the brightest and the dimmest object.\n",
    "\n",
    "4. **How many objects are there in each viewing season** (spring, summer, autumn, winter)? Before looking at the hint, see if you can approach this problem on your own!\n",
    "\n",
    "::: {hint} Hint for Problem 3\n",
    ":class: dropdown\n",
    "You may want to define some variables as \"counters\" for the number of objects in each season, and then loop through every row of the dataset and add 1 to the corresponding counter if an object is in that season. Recall, you can use the sugar syntax `a += 1` to add 1 to an exisiting variable (equivalent to `a = a + 1`). \n",
    ":::\n",
    "\n",
    "::::"
   ]
  },
  {
   "cell_type": "markdown",
   "metadata": {},
   "source": [
    "::::{admonition} Exercise Two: Getting More Practice  \n",
    ":class: tip\n",
    "\n",
    "These problems are slightly more complicated, but you will be able to figure them out! Please join office hours or post in Slack if you have questions! \n",
    "\n",
    "1. Calculate the **average distance** of **spiral galaxies** (Type: `'Sp'`), **globular clusters** (Type: `'Gc'`), and **open clusters** (Type: `'Oc'`). Which type of object is typically farther away? Does this make sense?\n",
    "\n",
    ":::{hint} Hint for Problem 1\n",
    ":class: dropdown\n",
    "You can do this (at least) two ways! First, try using a **condition** to **index** the array. Your condition would be something that is checking the object types, and you can use that condition directly as the index to select only rows in the array where that condition is `True`. I think we have not technically gone over this yet, but see if you can try it out! Once you have the subset of the array that meets your condition, you can compute the average how we covered in lecture (as in exercise 1 problem 2).  \n",
    "\n",
    "Another way you could approach this problem (which you should be able to do with what we've covered in lecture) is by using a `for` loop to iterate over every row, and then using `if` statements to select based on type. How would you compute the average? Try to think creatively about how you can perform math on values (recall exercise 1 problem 3) iteratively in a loop. Maybe you will need to define two variables that you operate on each iteration of the loop, then do something to the two variables at the end after the loop finishes.... \n",
    "\n",
    ":::\n",
    "\n",
    "2. **How many constellations are there in the dataset**, and **how many objects belong to each constellation?**\n",
    "    - First, you need to find how many unique constellations exist in the dataset.\n",
    "    - Then, count how many Messier objects belong to each constellation.\n",
    "\n",
    ":::{hint} Hint for Problem 2\n",
    ":class: dropdown\n",
    "You can try using a `set` to help find the unique constellations in the dataset. A `set` is a data structure that automatically removes duplicates, so it could be useful for counting how many distinct constellations there are. Most astronomers don't often use `set` as a data structure, but it's a very useful way to quickly get unique elements in a list or array! \n",
    "\n",
    "If you feel comfortable, try using a `set` to collect the constellations and a `dict` (dictionary) to count the number of objects in each one (recall exercise 1 problem 3 for counting in loops). Remember, if you're unsure about how to create or use a set, think about how a list works—sets work similarly but don't allow duplicate values!\n",
    ":::\n",
    "\n",
    "3. **How many Messier objects are in the northern vs. southern sky?** You could try to do this using the constellation information from the previous problem, but the hemisphere can more easily be determined by the **declination**. You may need to investigate and Google around to figure out how to tell if something is in the north or the south based on declination! \n",
    "\n",
    "::::"
   ]
  },
  {
   "cell_type": "markdown",
   "metadata": {},
   "source": [
    "## Submission Requirements:\n",
    "- Submit your code as a `.py` file.\n",
    "- Include comments in your code explaining what each part does!!"
   ]
  }
 ],
 "metadata": {
  "kernelspec": {
   "display_name": "Python 3 (ipykernel)",
   "language": "python",
   "name": "python3"
  },
  "language_info": {
   "codemirror_mode": {
    "name": "ipython",
    "version": 3
   },
   "file_extension": ".py",
   "mimetype": "text/x-python",
   "name": "python",
   "nbconvert_exporter": "python",
   "pygments_lexer": "ipython3",
   "version": "3.11.6"
  }
 },
 "nbformat": 4,
 "nbformat_minor": 4
}
