{
 "cells": [
  {
   "cell_type": "markdown",
   "id": "db1c7002-9f09-4031-a63c-e5ef64b97309",
   "metadata": {},
   "source": [
    "# Exploring Cosmological Parameters with Functions"
   ]
  },
  {
   "cell_type": "markdown",
   "id": "70066235-f760-4491-a827-26bc6ce35fd4",
   "metadata": {},
   "source": [
    ":::{admonition} [William Cerny](https://orcid.org/0000-0003-1697-7062), [Yasmeen Asali](https://orcid.org/0000-0002-8320-2198), [Pratik Gandhi](https://orcid.org/0000-0003-0965-605X) (Yale University)\n",
    ":class: Author\n",
    "\n",
    "*Description*: Estimating the expansion rate, age, and shape of the universe; practice with Python functions and array operations.\n",
    "\n",
    "*Intended Audience*: Early Undergraduate\n",
    "\n",
    "*tags*: `cosmology`, `basic-python`, `numpy`, `functions`, `f-strings`\n",
    "\n",
    "*Requirements*: [requirements.txt](./requirements.txt) (optional)\n",
    "\n",
    "*Last Updated: May 9, 2025*\n",
    ":::\n",
    "\n",
    ":::{admonition} Learning Objectives\n",
    ":class: learningobjective \n",
    "\n",
    "1. Practice developing functions from scratch to solve basic astronomical problems\n",
    "2. Understand how to apply functions over array inputs both with loops and with vectorized operations\n",
    "3. Be able to document functions properly with type decorators and docstrings\n",
    "\n",
    ":::"
   ]
  },
  {
   "cell_type": "markdown",
   "id": "bff7c42d-ff96-4788-a249-d2d489f605e5",
   "metadata": {},
   "source": [
    "### Background: The Hubble-Lemaitre Law\n",
    "The Hubble-Lemaitre law (often referred to as just \"Hubble's Law\") describes the relationship between the velocity of a galaxy and its distance from us:\n",
    "\n",
    "$$\n",
    "v = H_0 \\times d\n",
    "$$\n",
    "\n",
    "where $v$ is is the recession velocity of a galaxy (in km/s), $H_0$ is the Hubble constant (in km/s/Mpc, assume 70 km/s/Mpc), and $d$ is the distance of the galaxy (in Mpc).  $H_0$ is the present-day expansion rate of the universe. In general, we cannot measure direct distances to very distant galaxies, and so we measure the recessional velocity $v$ and can use that to find $d$. The fact that this correlation exists is a consequence of the fact that *our universe is expanding*.\n",
    "\n",
    "```{tip}\n",
    "### Exercise 1: Cosmic Distances with Hubble's Law\n",
    "1. Define a function `hubble_distance` to calculate the distance to a galaxy based on this formula. The function should take one required argument, the recessional velocity in km/s, and should return the distance to the galaxy in Megaparsecs (Mpc).\n",
    "\n",
    "2. Add the Hubble constant as an optional argument that takes a default value of 70 km/s/Mpc.\n",
    "\n",
    "3. Add a print statement of the form \"Given a recessional velocity of [] and a Hubble constant on [], a galaxy's distance would be []\" (fill in the units here, and use f-strings to handle the values).\n",
    "\n",
    "\n",
    "4. Verify your code by checking that you recover 20 Mpc as the distance for a galaxy moving at 1400 km/s, assuming the default $H_0$ value.\n",
    "(for reference, 20 Mpc is in the local universe, and space telescopes like JWST can resolve individual stars in galaxies at this distance).\n",
    "\n",
    "5. Now, create an evenly-spaced array (hint: np.arange or np.linspace is your friend here!) of 20 recessional velocities called **recess_vels** in the range [1000,100000]. Using a loop, evaluate your function over each element. Store the results in a list\n",
    "\n",
    "\n",
    "6. *Without* using a loop, evaluate your function over **recess_vels**. \n",
    "\n",
    "\n",
    "7. The output from 6 just prints everything in a rather sloppy way. Go back and add another optional argument **print_res** that is a boolean defaulting to False. Using an if statement, make it so that the results statement only prints if this variable is set to True.\n",
    "\n",
    "\n",
    "8. Add type decorators to the inputs. See the Week 4 notes for a reminder if needed! \n",
    "\n",
    "9. Lastly, add a docstring detailing the purpose of the function, its arguments, and the return type.\n",
    "\n",
    "```"
   ]
  },
  {
   "cell_type": "markdown",
   "id": "b67fe815-0a8b-4ea0-b233-e78732122288",
   "metadata": {},
   "source": [
    "Questions 5-6 above get at a core concept in Python: *vectorization*. In Python, it will essentially always be faster to carry out an operation over a vector (array) simultaneously (part 5) as opposed to using a loop (part 4). This might not matter for small datasets but will become increasingly relevant as your dataset grows."
   ]
  },
  {
   "cell_type": "markdown",
   "id": "8efda906-a71f-49ab-9aa9-a48fcb224d69",
   "metadata": {},
   "source": [
    "Now, we can make it even more sophisticated! We will now build subsequent functions that expand upon the one above. This incremental function-building is a core component of research, since you rarely write a single function that does everything you want."
   ]
  },
  {
   "cell_type": "markdown",
   "id": "121d8a37-37d8-45a9-8732-4654e743f012",
   "metadata": {},
   "source": [
    "### Background: The Cosmic Critical Density\n",
    "\n",
    "The cosmic *critical density* is the average density of matter and energy needed for the universe to be flat. If the actual density is higher, the universe is \"closed\" may eventually collapse; if the density is lower, the universe is \"open\" and will expand forever.  It can be calculated from the Hubble Constant via \n",
    "$$ \\rho_c = \\frac{3H_0^2}{8\\pi G}$$ \n",
    "\n",
    "\n",
    "\n",
    "### Background: The Age of the Universe\n",
    "Because the universe has been continuously expanding since the origin of the universe, the present-day expansion rate can be used to approximate the age of the universe. Put explicitly, the age of the universe can be estimated roughly as \n",
    "$$ t = \\frac{1}{H_0}$$ \n",
    "(but you need to be careful about units: you need to first convert $H_0$ to units of inverse seconds for this to work."
   ]
  },
  {
   "cell_type": "markdown",
   "id": "36edbc42-04fb-446e-afa9-9debf8a8e831",
   "metadata": {},
   "source": [
    "\n",
    "```{tip}\n",
    "### Exercise 2: Nested Functions\n",
    "\n",
    "In this exercise you will take data about galaxy distances and recession velocities and use it to derive the density, age, and shape of the universe.\n",
    "\n",
    "1. Write a function **get_hubble_constant** which takes in an array of galaxy distances in Mpc and an array of recessional velocities in km/s. Compute $H_0$ for each element and then return a single average. Don't use loops for anything in this exercise! \n",
    "2. Write a function **get_critical_density** that computes the critical density according to the above formula, with only a single argument of $H_0$. Determine and print the \"shape\" of the universe (open, closed, flat) by comparing against a model where the Hubble constant is fixed to $H_0 = 73$ (which is realistic, and we think we live in a flat universe). \n",
    "3. Write a function **get_universe_age** that takes in $H_0$ in km/s/Mpc and returns the age of the universe in years. Note that you need to include two unit conversions: first, you will need to convert km/s/Mpc to just 1/s. After inverting this, you can then convert the time in seconds to a time in years.\n",
    "4. Write a function **cosmology_solver** that wraps all of the three functions, i.e., it calculates the critical density, shape, and age of the universe. Specifically, it should take the same inputs as **get_hubble_constant**. Within **cosmology_solver**, you should run each of the functions you created above such that you can figure out the properties of the univese for a given dataset of galaxy distances/recession velocities. Print the critical density.\n",
    "5. Test your complete cosmology solver with the following data: distances: [45,100,200,400] Mpc and velocities [3400, 7600, 15200, 31800] km/s. What kind of univese do you end up with? Is it older or younger than our $H_0 = 70$ish universe?\n",
    "```"
   ]
  },
  {
   "cell_type": "code",
   "execution_count": null,
   "id": "65cfc8b5-c296-4c25-9b11-e0fc038cb2d2",
   "metadata": {},
   "outputs": [],
   "source": []
  }
 ],
 "metadata": {
  "kernelspec": {
   "display_name": "ugali_kernel",
   "language": "python",
   "name": "ugali_kernel"
  },
  "language_info": {
   "codemirror_mode": {
    "name": "ipython",
    "version": 3
   },
   "file_extension": ".py",
   "mimetype": "text/x-python",
   "name": "python",
   "nbconvert_exporter": "python",
   "pygments_lexer": "ipython3",
   "version": "3.6.8"
  }
 },
 "nbformat": 4,
 "nbformat_minor": 5
}
